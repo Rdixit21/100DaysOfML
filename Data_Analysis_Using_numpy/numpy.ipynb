{
  "cells": [
    {
      "cell_type": "markdown",
      "metadata": {
        "id": "hKjbkjuuiOIp"
      },
      "source": [
        "# Introduction to Numpy\n"
      ]
    },
    {
      "cell_type": "code",
      "execution_count": 130,
      "metadata": {
        "colab": {
          "base_uri": "https://localhost:8080/",
          "height": 35
        },
        "id": "k4jRyFU0iOIy",
        "outputId": "ad6b1a70-4ce9-41d6-829a-c1e1d058aa0e"
      },
      "outputs": [
        {
          "output_type": "execute_result",
          "data": {
            "text/plain": [
              "'1.21.6'"
            ],
            "application/vnd.google.colaboratory.intrinsic+json": {
              "type": "string"
            }
          },
          "metadata": {},
          "execution_count": 130
        }
      ],
      "source": [
        "import numpy as np\n",
        "np.__version__"
      ]
    },
    {
      "cell_type": "code",
      "execution_count": 131,
      "metadata": {
        "id": "qHVjFMtciOI3"
      },
      "outputs": [],
      "source": [
        "list = [4.0, 3.286, 3.5]"
      ]
    },
    {
      "cell_type": "code",
      "execution_count": 132,
      "metadata": {
        "colab": {
          "base_uri": "https://localhost:8080/",
          "height": 35
        },
        "id": "cHSV4NdsiOI4",
        "outputId": "3900a9dc-37eb-4e11-d7ef-c966a49ef412"
      },
      "outputs": [
        {
          "output_type": "execute_result",
          "data": {
            "text/plain": [
              "'Raa'"
            ],
            "application/vnd.google.colaboratory.intrinsic+json": {
              "type": "string"
            }
          },
          "metadata": {},
          "execution_count": 132
        }
      ],
      "source": [
        "# Can have elements appended to it\n",
        "list.append(3.0)\n",
        "# Can have multiple datatypes in it.\n",
        "list.insert(1, \"Raa\")\n",
        "# Can have items removed\n",
        "list.pop(1)"
      ]
    },
    {
      "cell_type": "code",
      "execution_count": 133,
      "metadata": {
        "colab": {
          "base_uri": "https://localhost:8080/"
        },
        "id": "dySSrK3BiOI5",
        "outputId": "2cca4307-57a4-4288-a6d4-ee3cfcabe3d4"
      },
      "outputs": [
        {
          "output_type": "execute_result",
          "data": {
            "text/plain": [
              "[4.0, 3.286, 3.5, 3.0]"
            ]
          },
          "metadata": {},
          "execution_count": 133
        }
      ],
      "source": [
        "list"
      ]
    },
    {
      "cell_type": "code",
      "execution_count": 134,
      "metadata": {
        "id": "FBSWC52XiOI6"
      },
      "outputs": [],
      "source": [
        "arr = np.array(list)"
      ]
    },
    {
      "cell_type": "code",
      "execution_count": 135,
      "metadata": {
        "colab": {
          "base_uri": "https://localhost:8080/"
        },
        "id": "JNetYz5IiOI8",
        "outputId": "3a67f99d-081c-475c-cf50-6f63d14620b6"
      },
      "outputs": [
        {
          "output_type": "execute_result",
          "data": {
            "text/plain": [
              "dtype('float64')"
            ]
          },
          "metadata": {},
          "execution_count": 135
        }
      ],
      "source": [
        "arr.dtype"
      ]
    },
    {
      "cell_type": "code",
      "execution_count": 136,
      "metadata": {
        "colab": {
          "base_uri": "https://localhost:8080/"
        },
        "id": "qLCujhemiOI9",
        "outputId": "ad4e7944-0f5c-4b18-c640-57a9cb1050c4"
      },
      "outputs": [
        {
          "output_type": "execute_result",
          "data": {
            "text/plain": [
              "8"
            ]
          },
          "metadata": {},
          "execution_count": 136
        }
      ],
      "source": [
        "arr.itemsize"
      ]
    },
    {
      "cell_type": "code",
      "execution_count": 137,
      "metadata": {
        "colab": {
          "base_uri": "https://localhost:8080/"
        },
        "id": "WGr33cn5iOI_",
        "outputId": "3769931d-83e5-45ac-9dd6-794484ab4284"
      },
      "outputs": [
        {
          "output_type": "execute_result",
          "data": {
            "text/plain": [
              "4"
            ]
          },
          "metadata": {},
          "execution_count": 137
        }
      ],
      "source": [
        "arr.size"
      ]
    },
    {
      "cell_type": "code",
      "execution_count": 138,
      "metadata": {
        "colab": {
          "base_uri": "https://localhost:8080/"
        },
        "id": "aISNqobSiOJA",
        "outputId": "01936d5e-13f8-4c59-e65f-da35847ce01c"
      },
      "outputs": [
        {
          "output_type": "execute_result",
          "data": {
            "text/plain": [
              "4"
            ]
          },
          "metadata": {},
          "execution_count": 138
        }
      ],
      "source": [
        "len(arr)"
      ]
    },
    {
      "cell_type": "code",
      "execution_count": 139,
      "metadata": {
        "colab": {
          "base_uri": "https://localhost:8080/"
        },
        "id": "yhZKH8aDiOJB",
        "outputId": "da2f4b3d-b552-4a63-95d1-a7ce6f0fe420"
      },
      "outputs": [
        {
          "output_type": "execute_result",
          "data": {
            "text/plain": [
              "32"
            ]
          },
          "metadata": {},
          "execution_count": 139
        }
      ],
      "source": [
        "arr.nbytes"
      ]
    },
    {
      "cell_type": "markdown",
      "metadata": {
        "id": "seFm28ZbiOJC"
      },
      "source": [
        "## Multidimensional Arrays\n",
        "* The data structure is actually called `ndarray`, representing any **n**umber of **d**imensions\n",
        "* Arrays can have multiple dimensions, you declare them on creation\n",
        "* Dimensions help define what each element in the array represents.  A two dimensional array is just an array of arrays\n",
        "* **Rank** defines how many dimensions an array contains \n",
        "* **Shape** defines the length of each of the array's dimensions\n",
        "* Each dimension is also referred to as an **axis**, and they are zero-indexed. Multiples are called **axes**.\n",
        "* A 2d array is AKA **matrix**."
      ]
    },
    {
      "cell_type": "code",
      "execution_count": 140,
      "metadata": {
        "colab": {
          "base_uri": "https://localhost:8080/"
        },
        "id": "QYJVWIINiOJD",
        "outputId": "115ab31a-dee5-4067-fbf5-2f0f93a73016"
      },
      "outputs": [
        {
          "output_type": "execute_result",
          "data": {
            "text/plain": [
              "array([[4.   , 3.285, 3.5  , 4.   ],\n",
              "       [3.2  , 3.8  , 4.   , 4.   ],\n",
              "       [3.96 , 3.92 , 4.   , 4.   ]], dtype=float16)"
            ]
          },
          "metadata": {},
          "execution_count": 140
        }
      ],
      "source": [
        "students_arr = np.array([\n",
        "    [4.0, 3.286, 3.5, 4.0],\n",
        "    [3.2, 3.8, 4.0, 4.0],\n",
        "    [3.96, 3.92, 4.0, 4.0]\n",
        "], np.float16)\n",
        "students_arr"
      ]
    },
    {
      "cell_type": "code",
      "execution_count": 141,
      "metadata": {
        "colab": {
          "base_uri": "https://localhost:8080/"
        },
        "id": "cfxGqEB-iOJE",
        "outputId": "41e62e4d-2036-409d-b82f-c4215a203103"
      },
      "outputs": [
        {
          "output_type": "execute_result",
          "data": {
            "text/plain": [
              "2"
            ]
          },
          "metadata": {},
          "execution_count": 141
        }
      ],
      "source": [
        "students_arr.ndim"
      ]
    },
    {
      "cell_type": "code",
      "execution_count": 142,
      "metadata": {
        "colab": {
          "base_uri": "https://localhost:8080/"
        },
        "id": "k_9MQ0IxiOJF",
        "outputId": "f4af5fce-f448-467e-9e64-0c7595bf395e"
      },
      "outputs": [
        {
          "output_type": "execute_result",
          "data": {
            "text/plain": [
              "(3, 4)"
            ]
          },
          "metadata": {},
          "execution_count": 142
        }
      ],
      "source": [
        "students_arr.shape"
      ]
    },
    {
      "cell_type": "code",
      "execution_count": 143,
      "metadata": {
        "colab": {
          "base_uri": "https://localhost:8080/"
        },
        "id": "kA1VTMlGiOJG",
        "outputId": "18d18aec-7662-4770-fc8e-acd7934bbe07"
      },
      "outputs": [
        {
          "output_type": "execute_result",
          "data": {
            "text/plain": [
              "12"
            ]
          },
          "metadata": {},
          "execution_count": 143
        }
      ],
      "source": [
        "students_arr.size"
      ]
    },
    {
      "cell_type": "code",
      "execution_count": 144,
      "metadata": {
        "colab": {
          "base_uri": "https://localhost:8080/"
        },
        "id": "b7bF7KrxiOJG",
        "outputId": "14100edc-3192-4649-d740-f4277a0eb9e4"
      },
      "outputs": [
        {
          "output_type": "execute_result",
          "data": {
            "text/plain": [
              "3"
            ]
          },
          "metadata": {},
          "execution_count": 144
        }
      ],
      "source": [
        "len(students_arr)"
      ]
    },
    {
      "cell_type": "code",
      "execution_count": 145,
      "metadata": {
        "colab": {
          "base_uri": "https://localhost:8080/"
        },
        "id": "qtXb4gPYiOJH",
        "outputId": "f4f742ee-67a8-4aae-bee0-81a34e3a8fed"
      },
      "outputs": [
        {
          "output_type": "execute_result",
          "data": {
            "text/plain": [
              "2"
            ]
          },
          "metadata": {},
          "execution_count": 145
        }
      ],
      "source": [
        "students_arr.itemsize"
      ]
    },
    {
      "cell_type": "code",
      "execution_count": 146,
      "metadata": {
        "colab": {
          "base_uri": "https://localhost:8080/"
        },
        "id": "sMbLzqjtiOJI",
        "outputId": "0ee03c50-2483-41c4-8199-afe3826aac64"
      },
      "outputs": [
        {
          "output_type": "execute_result",
          "data": {
            "text/plain": [
              "24"
            ]
          },
          "metadata": {},
          "execution_count": 146
        }
      ],
      "source": [
        "students_arr.itemsize * students_arr.size"
      ]
    },
    {
      "cell_type": "code",
      "execution_count": 147,
      "metadata": {
        "colab": {
          "base_uri": "https://localhost:8080/"
        },
        "id": "kBibF1-_iOJJ",
        "outputId": "279f6947-0892-4b29-cdad-185f9b116663"
      },
      "outputs": [
        {
          "output_type": "stream",
          "name": "stdout",
          "text": [
            "Variable        Type       Data/Info\n",
            "------------------------------------\n",
            "a               ndarray    5: 5 elems, type `int64`, 40 bytes\n",
            "arr             ndarray    4: 4 elems, type `float64`, 32 bytes\n",
            "array           ndarray    5: 5 elems, type `float64`, 40 bytes\n",
            "b               ndarray    5: 5 elems, type `int64`, 40 bytes\n",
            "fake_log        ndarray    100: 100 elems, type `uint16`, 200 bytes\n",
            "index           ndarray    2x2: 4 elems, type `int64`, 32 bytes\n",
            "not_copied      ndarray    7x6: 42 elems, type `int64`, 336 bytes\n",
            "orders          ndarray    4x4: 16 elems, type `int64`, 128 bytes\n",
            "practice        ndarray    7x6: 42 elems, type `int64`, 336 bytes\n",
            "practice_view   ndarray    3x14: 42 elems, type `int64`, 336 bytes\n",
            "prices          ndarray    4: 4 elems, type `float64`, 32 bytes\n",
            "students_arr    ndarray    3x4: 12 elems, type `float16`, 24 bytes\n",
            "study_minutes   ndarray    3x100: 300 elems, type `uint16`, 600 bytes\n",
            "totals          ndarray    4: 4 elems, type `float64`, 32 bytes\n",
            "x1              ndarray    3x3: 9 elems, type `float64`, 72 bytes\n",
            "x2              ndarray    3: 3 elems, type `float64`, 24 bytes\n"
          ]
        }
      ],
      "source": [
        "%whos ndarray"
      ]
    },
    {
      "cell_type": "code",
      "execution_count": 148,
      "metadata": {
        "colab": {
          "base_uri": "https://localhost:8080/"
        },
        "id": "4mZwKLqziOJJ",
        "outputId": "c30ae57b-1e3e-475d-e637-9bb920ff3cc4"
      },
      "outputs": [
        {
          "output_type": "stream",
          "name": "stdout",
          "text": [
            "class:  ndarray\n",
            "shape:  (3, 4)\n",
            "strides:  (8, 2)\n",
            "itemsize:  2\n",
            "aligned:  True\n",
            "contiguous:  True\n",
            "fortran:  False\n",
            "data pointer: 0x3ef3ea0\n",
            "byteorder:  little\n",
            "byteswap:  False\n",
            "type: float16\n"
          ]
        }
      ],
      "source": [
        "np.info(students_arr)"
      ]
    },
    {
      "cell_type": "code",
      "execution_count": 149,
      "metadata": {
        "colab": {
          "base_uri": "https://localhost:8080/"
        },
        "id": "5BMc4oMbiOJK",
        "outputId": "86a13594-9767-4b06-8576-5c33f98998c6"
      },
      "outputs": [
        {
          "output_type": "execute_result",
          "data": {
            "text/plain": [
              "array([3.96, 3.92, 4.  , 4.  ], dtype=float16)"
            ]
          },
          "metadata": {},
          "execution_count": 149
        }
      ],
      "source": [
        "students_arr[2]"
      ]
    },
    {
      "cell_type": "code",
      "execution_count": 150,
      "metadata": {
        "colab": {
          "base_uri": "https://localhost:8080/"
        },
        "id": "D1aVbRgtiOJL",
        "outputId": "b9e78fba-677f-47cf-9e7c-a2e9fdf60dc6"
      },
      "outputs": [
        {
          "output_type": "execute_result",
          "data": {
            "text/plain": [
              "4.0"
            ]
          },
          "metadata": {},
          "execution_count": 150
        }
      ],
      "source": [
        "students_arr[2][3]"
      ]
    },
    {
      "cell_type": "code",
      "execution_count": 151,
      "metadata": {
        "colab": {
          "base_uri": "https://localhost:8080/"
        },
        "id": "M6VrDcRIiOJL",
        "outputId": "171bc817-3e8a-40ed-c8da-f4e8a466b4f2"
      },
      "outputs": [
        {
          "output_type": "execute_result",
          "data": {
            "text/plain": [
              "array([[4.   , 3.285, 3.5  , 4.   ],\n",
              "       [3.2  , 3.8  , 4.   , 4.   ],\n",
              "       [3.96 , 3.92 , 4.   , 4.   ]], dtype=float16)"
            ]
          },
          "metadata": {},
          "execution_count": 151
        }
      ],
      "source": [
        "students_arr"
      ]
    },
    {
      "cell_type": "markdown",
      "metadata": {
        "id": "FDpQS5yoiOJM"
      },
      "source": [
        "## Common Routines\n",
        "* Common [mathematical](https://docs.scipy.org/doc/numpy-1.14.0/reference/routines.math.html) [routines](https://docs.scipy.org/doc/numpy-1.14.0/reference/routines.html) are exposed so the formula can be abstracted away.\n",
        "    * [`mean`](https://docs.scipy.org/doc/numpy-1.14.0/reference/generated/numpy.mean.html#numpy.mean) is a [statistics](https://docs.scipy.org/doc/numpy-1.14.0/reference/routines.statistics.html) routine used to calculate the average.\n",
        "* Reduction functions take a dimension and collapse it into a single value.\n",
        "    * These functions define an axis parameter, and you should remember that the function works across the dimension.\n",
        " "
      ]
    },
    {
      "cell_type": "code",
      "execution_count": 152,
      "metadata": {
        "colab": {
          "base_uri": "https://localhost:8080/"
        },
        "id": "n5dR4QwZiOJN",
        "outputId": "6a87d736-7043-4ada-b300-ee8550eaee52"
      },
      "outputs": [
        {
          "output_type": "execute_result",
          "data": {
            "text/plain": [
              "3.805"
            ]
          },
          "metadata": {},
          "execution_count": 152
        }
      ],
      "source": [
        "students_arr.mean()"
      ]
    },
    {
      "cell_type": "code",
      "execution_count": 153,
      "metadata": {
        "colab": {
          "base_uri": "https://localhost:8080/"
        },
        "id": "40xj3BUoiOJN",
        "outputId": "a41390cd-5ce5-4771-e2b8-f3d4bd658573"
      },
      "outputs": [
        {
          "output_type": "execute_result",
          "data": {
            "text/plain": [
              "array([3.695, 3.75 , 3.97 ], dtype=float16)"
            ]
          },
          "metadata": {},
          "execution_count": 153
        }
      ],
      "source": [
        "students_arr.mean(axis=1)"
      ]
    },
    {
      "cell_type": "code",
      "execution_count": 154,
      "metadata": {
        "colab": {
          "base_uri": "https://localhost:8080/",
          "height": 542
        },
        "id": "_zLYlHewiOJO",
        "outputId": "d00a4da6-3f7e-4df4-f69e-14ed3216a898"
      },
      "outputs": [
        {
          "output_type": "display_data",
          "data": {
            "text/html": [
              "<html>\n",
              "<head><meta charset=\"utf-8\" /></head>\n",
              "<body>\n",
              "    <div>            <script src=\"https://cdnjs.cloudflare.com/ajax/libs/mathjax/2.7.5/MathJax.js?config=TeX-AMS-MML_SVG\"></script><script type=\"text/javascript\">if (window.MathJax) {MathJax.Hub.Config({SVG: {font: \"STIX-Web\"}});}</script>                <script type=\"text/javascript\">window.PlotlyConfig = {MathJaxConfig: 'local'};</script>\n",
              "        <script src=\"https://cdn.plot.ly/plotly-2.8.3.min.js\"></script>                <div id=\"7f381f85-2b6b-46bc-8751-256341b85b86\" class=\"plotly-graph-div\" style=\"height:525px; width:100%;\"></div>            <script type=\"text/javascript\">                                    window.PLOTLYENV=window.PLOTLYENV || {};                                    if (document.getElementById(\"7f381f85-2b6b-46bc-8751-256341b85b86\")) {                    Plotly.newPlot(                        \"7f381f85-2b6b-46bc-8751-256341b85b86\",                        [{\"alignmentgroup\":\"True\",\"hovertemplate\":\"variable=%{x}<br>value=%{y}<extra></extra>\",\"legendgroup\":\"\",\"marker\":{\"color\":\"#636efa\"},\"name\":\"\",\"notched\":false,\"offsetgroup\":\"\",\"orientation\":\"v\",\"showlegend\":false,\"x\":[\"0\",\"0\",\"0\",\"0\",\"1\",\"1\",\"1\",\"1\",\"2\",\"2\",\"2\",\"2\"],\"x0\":\" \",\"xaxis\":\"x\",\"y\":[4.0,3.28515625,3.5,4.0,3.19921875,3.80078125,4.0,4.0,3.9609375,3.919921875,4.0,4.0],\"y0\":\" \",\"yaxis\":\"y\",\"type\":\"box\"}],                        {\"template\":{\"data\":{\"bar\":[{\"error_x\":{\"color\":\"#2a3f5f\"},\"error_y\":{\"color\":\"#2a3f5f\"},\"marker\":{\"line\":{\"color\":\"#E5ECF6\",\"width\":0.5},\"pattern\":{\"fillmode\":\"overlay\",\"size\":10,\"solidity\":0.2}},\"type\":\"bar\"}],\"barpolar\":[{\"marker\":{\"line\":{\"color\":\"#E5ECF6\",\"width\":0.5},\"pattern\":{\"fillmode\":\"overlay\",\"size\":10,\"solidity\":0.2}},\"type\":\"barpolar\"}],\"carpet\":[{\"aaxis\":{\"endlinecolor\":\"#2a3f5f\",\"gridcolor\":\"white\",\"linecolor\":\"white\",\"minorgridcolor\":\"white\",\"startlinecolor\":\"#2a3f5f\"},\"baxis\":{\"endlinecolor\":\"#2a3f5f\",\"gridcolor\":\"white\",\"linecolor\":\"white\",\"minorgridcolor\":\"white\",\"startlinecolor\":\"#2a3f5f\"},\"type\":\"carpet\"}],\"choropleth\":[{\"colorbar\":{\"outlinewidth\":0,\"ticks\":\"\"},\"type\":\"choropleth\"}],\"contour\":[{\"colorbar\":{\"outlinewidth\":0,\"ticks\":\"\"},\"colorscale\":[[0.0,\"#0d0887\"],[0.1111111111111111,\"#46039f\"],[0.2222222222222222,\"#7201a8\"],[0.3333333333333333,\"#9c179e\"],[0.4444444444444444,\"#bd3786\"],[0.5555555555555556,\"#d8576b\"],[0.6666666666666666,\"#ed7953\"],[0.7777777777777778,\"#fb9f3a\"],[0.8888888888888888,\"#fdca26\"],[1.0,\"#f0f921\"]],\"type\":\"contour\"}],\"contourcarpet\":[{\"colorbar\":{\"outlinewidth\":0,\"ticks\":\"\"},\"type\":\"contourcarpet\"}],\"heatmap\":[{\"colorbar\":{\"outlinewidth\":0,\"ticks\":\"\"},\"colorscale\":[[0.0,\"#0d0887\"],[0.1111111111111111,\"#46039f\"],[0.2222222222222222,\"#7201a8\"],[0.3333333333333333,\"#9c179e\"],[0.4444444444444444,\"#bd3786\"],[0.5555555555555556,\"#d8576b\"],[0.6666666666666666,\"#ed7953\"],[0.7777777777777778,\"#fb9f3a\"],[0.8888888888888888,\"#fdca26\"],[1.0,\"#f0f921\"]],\"type\":\"heatmap\"}],\"heatmapgl\":[{\"colorbar\":{\"outlinewidth\":0,\"ticks\":\"\"},\"colorscale\":[[0.0,\"#0d0887\"],[0.1111111111111111,\"#46039f\"],[0.2222222222222222,\"#7201a8\"],[0.3333333333333333,\"#9c179e\"],[0.4444444444444444,\"#bd3786\"],[0.5555555555555556,\"#d8576b\"],[0.6666666666666666,\"#ed7953\"],[0.7777777777777778,\"#fb9f3a\"],[0.8888888888888888,\"#fdca26\"],[1.0,\"#f0f921\"]],\"type\":\"heatmapgl\"}],\"histogram\":[{\"marker\":{\"pattern\":{\"fillmode\":\"overlay\",\"size\":10,\"solidity\":0.2}},\"type\":\"histogram\"}],\"histogram2d\":[{\"colorbar\":{\"outlinewidth\":0,\"ticks\":\"\"},\"colorscale\":[[0.0,\"#0d0887\"],[0.1111111111111111,\"#46039f\"],[0.2222222222222222,\"#7201a8\"],[0.3333333333333333,\"#9c179e\"],[0.4444444444444444,\"#bd3786\"],[0.5555555555555556,\"#d8576b\"],[0.6666666666666666,\"#ed7953\"],[0.7777777777777778,\"#fb9f3a\"],[0.8888888888888888,\"#fdca26\"],[1.0,\"#f0f921\"]],\"type\":\"histogram2d\"}],\"histogram2dcontour\":[{\"colorbar\":{\"outlinewidth\":0,\"ticks\":\"\"},\"colorscale\":[[0.0,\"#0d0887\"],[0.1111111111111111,\"#46039f\"],[0.2222222222222222,\"#7201a8\"],[0.3333333333333333,\"#9c179e\"],[0.4444444444444444,\"#bd3786\"],[0.5555555555555556,\"#d8576b\"],[0.6666666666666666,\"#ed7953\"],[0.7777777777777778,\"#fb9f3a\"],[0.8888888888888888,\"#fdca26\"],[1.0,\"#f0f921\"]],\"type\":\"histogram2dcontour\"}],\"mesh3d\":[{\"colorbar\":{\"outlinewidth\":0,\"ticks\":\"\"},\"type\":\"mesh3d\"}],\"parcoords\":[{\"line\":{\"colorbar\":{\"outlinewidth\":0,\"ticks\":\"\"}},\"type\":\"parcoords\"}],\"pie\":[{\"automargin\":true,\"type\":\"pie\"}],\"scatter\":[{\"marker\":{\"colorbar\":{\"outlinewidth\":0,\"ticks\":\"\"}},\"type\":\"scatter\"}],\"scatter3d\":[{\"line\":{\"colorbar\":{\"outlinewidth\":0,\"ticks\":\"\"}},\"marker\":{\"colorbar\":{\"outlinewidth\":0,\"ticks\":\"\"}},\"type\":\"scatter3d\"}],\"scattercarpet\":[{\"marker\":{\"colorbar\":{\"outlinewidth\":0,\"ticks\":\"\"}},\"type\":\"scattercarpet\"}],\"scattergeo\":[{\"marker\":{\"colorbar\":{\"outlinewidth\":0,\"ticks\":\"\"}},\"type\":\"scattergeo\"}],\"scattergl\":[{\"marker\":{\"colorbar\":{\"outlinewidth\":0,\"ticks\":\"\"}},\"type\":\"scattergl\"}],\"scattermapbox\":[{\"marker\":{\"colorbar\":{\"outlinewidth\":0,\"ticks\":\"\"}},\"type\":\"scattermapbox\"}],\"scatterpolar\":[{\"marker\":{\"colorbar\":{\"outlinewidth\":0,\"ticks\":\"\"}},\"type\":\"scatterpolar\"}],\"scatterpolargl\":[{\"marker\":{\"colorbar\":{\"outlinewidth\":0,\"ticks\":\"\"}},\"type\":\"scatterpolargl\"}],\"scatterternary\":[{\"marker\":{\"colorbar\":{\"outlinewidth\":0,\"ticks\":\"\"}},\"type\":\"scatterternary\"}],\"surface\":[{\"colorbar\":{\"outlinewidth\":0,\"ticks\":\"\"},\"colorscale\":[[0.0,\"#0d0887\"],[0.1111111111111111,\"#46039f\"],[0.2222222222222222,\"#7201a8\"],[0.3333333333333333,\"#9c179e\"],[0.4444444444444444,\"#bd3786\"],[0.5555555555555556,\"#d8576b\"],[0.6666666666666666,\"#ed7953\"],[0.7777777777777778,\"#fb9f3a\"],[0.8888888888888888,\"#fdca26\"],[1.0,\"#f0f921\"]],\"type\":\"surface\"}],\"table\":[{\"cells\":{\"fill\":{\"color\":\"#EBF0F8\"},\"line\":{\"color\":\"white\"}},\"header\":{\"fill\":{\"color\":\"#C8D4E3\"},\"line\":{\"color\":\"white\"}},\"type\":\"table\"}]},\"layout\":{\"annotationdefaults\":{\"arrowcolor\":\"#2a3f5f\",\"arrowhead\":0,\"arrowwidth\":1},\"autotypenumbers\":\"strict\",\"coloraxis\":{\"colorbar\":{\"outlinewidth\":0,\"ticks\":\"\"}},\"colorscale\":{\"diverging\":[[0,\"#8e0152\"],[0.1,\"#c51b7d\"],[0.2,\"#de77ae\"],[0.3,\"#f1b6da\"],[0.4,\"#fde0ef\"],[0.5,\"#f7f7f7\"],[0.6,\"#e6f5d0\"],[0.7,\"#b8e186\"],[0.8,\"#7fbc41\"],[0.9,\"#4d9221\"],[1,\"#276419\"]],\"sequential\":[[0.0,\"#0d0887\"],[0.1111111111111111,\"#46039f\"],[0.2222222222222222,\"#7201a8\"],[0.3333333333333333,\"#9c179e\"],[0.4444444444444444,\"#bd3786\"],[0.5555555555555556,\"#d8576b\"],[0.6666666666666666,\"#ed7953\"],[0.7777777777777778,\"#fb9f3a\"],[0.8888888888888888,\"#fdca26\"],[1.0,\"#f0f921\"]],\"sequentialminus\":[[0.0,\"#0d0887\"],[0.1111111111111111,\"#46039f\"],[0.2222222222222222,\"#7201a8\"],[0.3333333333333333,\"#9c179e\"],[0.4444444444444444,\"#bd3786\"],[0.5555555555555556,\"#d8576b\"],[0.6666666666666666,\"#ed7953\"],[0.7777777777777778,\"#fb9f3a\"],[0.8888888888888888,\"#fdca26\"],[1.0,\"#f0f921\"]]},\"colorway\":[\"#636efa\",\"#EF553B\",\"#00cc96\",\"#ab63fa\",\"#FFA15A\",\"#19d3f3\",\"#FF6692\",\"#B6E880\",\"#FF97FF\",\"#FECB52\"],\"font\":{\"color\":\"#2a3f5f\"},\"geo\":{\"bgcolor\":\"white\",\"lakecolor\":\"white\",\"landcolor\":\"#E5ECF6\",\"showlakes\":true,\"showland\":true,\"subunitcolor\":\"white\"},\"hoverlabel\":{\"align\":\"left\"},\"hovermode\":\"closest\",\"mapbox\":{\"style\":\"light\"},\"paper_bgcolor\":\"white\",\"plot_bgcolor\":\"#E5ECF6\",\"polar\":{\"angularaxis\":{\"gridcolor\":\"white\",\"linecolor\":\"white\",\"ticks\":\"\"},\"bgcolor\":\"#E5ECF6\",\"radialaxis\":{\"gridcolor\":\"white\",\"linecolor\":\"white\",\"ticks\":\"\"}},\"scene\":{\"xaxis\":{\"backgroundcolor\":\"#E5ECF6\",\"gridcolor\":\"white\",\"gridwidth\":2,\"linecolor\":\"white\",\"showbackground\":true,\"ticks\":\"\",\"zerolinecolor\":\"white\"},\"yaxis\":{\"backgroundcolor\":\"#E5ECF6\",\"gridcolor\":\"white\",\"gridwidth\":2,\"linecolor\":\"white\",\"showbackground\":true,\"ticks\":\"\",\"zerolinecolor\":\"white\"},\"zaxis\":{\"backgroundcolor\":\"#E5ECF6\",\"gridcolor\":\"white\",\"gridwidth\":2,\"linecolor\":\"white\",\"showbackground\":true,\"ticks\":\"\",\"zerolinecolor\":\"white\"}},\"shapedefaults\":{\"line\":{\"color\":\"#2a3f5f\"}},\"ternary\":{\"aaxis\":{\"gridcolor\":\"white\",\"linecolor\":\"white\",\"ticks\":\"\"},\"baxis\":{\"gridcolor\":\"white\",\"linecolor\":\"white\",\"ticks\":\"\"},\"bgcolor\":\"#E5ECF6\",\"caxis\":{\"gridcolor\":\"white\",\"linecolor\":\"white\",\"ticks\":\"\"}},\"title\":{\"x\":0.05},\"xaxis\":{\"automargin\":true,\"gridcolor\":\"white\",\"linecolor\":\"white\",\"ticks\":\"\",\"title\":{\"standoff\":15},\"zerolinecolor\":\"white\",\"zerolinewidth\":2},\"yaxis\":{\"automargin\":true,\"gridcolor\":\"white\",\"linecolor\":\"white\",\"ticks\":\"\",\"title\":{\"standoff\":15},\"zerolinecolor\":\"white\",\"zerolinewidth\":2}}},\"xaxis\":{\"anchor\":\"y\",\"domain\":[0.0,1.0],\"title\":{\"text\":\"variable\"}},\"yaxis\":{\"anchor\":\"x\",\"domain\":[0.0,1.0],\"title\":{\"text\":\"value\"}},\"legend\":{\"tracegroupgap\":0},\"margin\":{\"t\":60},\"boxmode\":\"group\"},                        {\"responsive\": true}                    ).then(function(){\n",
              "                            \n",
              "var gd = document.getElementById('7f381f85-2b6b-46bc-8751-256341b85b86');\n",
              "var x = new MutationObserver(function (mutations, observer) {{\n",
              "        var display = window.getComputedStyle(gd).display;\n",
              "        if (!display || display === 'none') {{\n",
              "            console.log([gd, 'removed!']);\n",
              "            Plotly.purge(gd);\n",
              "            observer.disconnect();\n",
              "        }}\n",
              "}});\n",
              "\n",
              "// Listen for the removal of the full notebook cells\n",
              "var notebookContainer = gd.closest('#notebook-container');\n",
              "if (notebookContainer) {{\n",
              "    x.observe(notebookContainer, {childList: true});\n",
              "}}\n",
              "\n",
              "// Listen for the clearing of the current output cell\n",
              "var outputEl = gd.closest('.output');\n",
              "if (outputEl) {{\n",
              "    x.observe(outputEl, {childList: true});\n",
              "}}\n",
              "\n",
              "                        })                };                            </script>        </div>\n",
              "</body>\n",
              "</html>"
            ]
          },
          "metadata": {}
        }
      ],
      "source": [
        "import plotly.express as px\n",
        "fig = px.box(students_arr.T)\n",
        "fig.show()"
      ]
    },
    {
      "cell_type": "markdown",
      "metadata": {
        "id": "eLDOstlEiOJP"
      },
      "source": [
        "## About data types\n",
        "* By choosing the proper [data type](https://docs.scipy.org/doc/numpy-1.14.0/user/basics.types.html) you can greatly reduce the size required to store objects\n",
        "* Data types are maintained by wrapping values in a [scalar representation](https://docs.scipy.org/doc/numpy-1.14.0/reference/arrays.scalars.html)\n",
        "* `np.zeros` is a handy way to create an empty array filled with zeros."
      ]
    },
    {
      "cell_type": "code",
      "execution_count": 155,
      "metadata": {
        "colab": {
          "base_uri": "https://localhost:8080/"
        },
        "id": "zXnlu0lhiOJP",
        "outputId": "bf7f0ec9-fabf-4815-fc79-c41b5f0bf210"
      },
      "outputs": [
        {
          "output_type": "execute_result",
          "data": {
            "text/plain": [
              "array([0, 0, 0, 0, 0, 0, 0, 0, 0, 0, 0, 0, 0, 0, 0, 0, 0, 0, 0, 0, 0, 0,\n",
              "       0, 0, 0, 0, 0, 0, 0, 0, 0, 0, 0, 0, 0, 0, 0, 0, 0, 0, 0, 0, 0, 0,\n",
              "       0, 0, 0, 0, 0, 0, 0, 0, 0, 0, 0, 0, 0, 0, 0, 0, 0, 0, 0, 0, 0, 0,\n",
              "       0, 0, 0, 0, 0, 0, 0, 0, 0, 0, 0, 0, 0, 0, 0, 0, 0, 0, 0, 0, 0, 0,\n",
              "       0, 0, 0, 0, 0, 0, 0, 0, 0, 0, 0, 0], dtype=uint16)"
            ]
          },
          "metadata": {},
          "execution_count": 155
        }
      ],
      "source": [
        "study_minutes = np.zeros(100, np.uint16)\n",
        "study_minutes"
      ]
    },
    {
      "cell_type": "code",
      "execution_count": 156,
      "metadata": {
        "colab": {
          "base_uri": "https://localhost:8080/"
        },
        "id": "VAL1mt9BiOJQ",
        "outputId": "f2731ff5-93cd-4850-dc13-4df42b20666a"
      },
      "outputs": [
        {
          "output_type": "stream",
          "name": "stdout",
          "text": [
            "Variable            Type           Data/Info\n",
            "--------------------------------------------\n",
            "a                   ndarray        5: 5 elems, type `int64`, 40 bytes\n",
            "arr                 ndarray        4: 4 elems, type `float64`, 32 bytes\n",
            "array               ndarray        5: 5 elems, type `float64`, 40 bytes\n",
            "b                   ndarray        5: 5 elems, type `int64`, 40 bytes\n",
            "copied              list           n=4\n",
            "fake_log            ndarray        100: 100 elems, type `uint16`, 200 bytes\n",
            "fig                 Figure         Figure({\\n    'data': [{'<...>: {'text': 'value'}}}\\n})\n",
            "first_day_minutes   uint16         150\n",
            "fruit               list           n=4\n",
            "gpas_as_list        list           n=3\n",
            "index               ndarray        2x2: 4 elems, type `int64`, 32 bytes\n",
            "list                list           n=4\n",
            "not_copied          ndarray        7x6: 42 elems, type `int64`, 336 bytes\n",
            "np                  module         <module 'numpy' from '/us<...>kages/numpy/__init__.py'>\n",
            "orders              ndarray        4x4: 16 elems, type `int64`, 128 bytes\n",
            "plt                 module         <module 'plotly.express' <...>tly/express/__init__.py'>\n",
            "practice            ndarray        7x6: 42 elems, type `int64`, 336 bytes\n",
            "practice_view       ndarray        3x14: 42 elems, type `int64`, 336 bytes\n",
            "prices              ndarray        4: 4 elems, type `float64`, 32 bytes\n",
            "px                  module         <module 'plotly.express' <...>tly/express/__init__.py'>\n",
            "rand                RandomState    RandomState(MT19937)\n",
            "results             list           n=20\n",
            "students_arr        ndarray        3x4: 12 elems, type `float16`, 24 bytes\n",
            "study_minutes       ndarray        100: 100 elems, type `uint16`, 200 bytes\n",
            "totals              ndarray        4: 4 elems, type `float64`, 32 bytes\n",
            "value               uint16         79\n",
            "x1                  ndarray        3x3: 9 elems, type `float64`, 72 bytes\n",
            "x2                  ndarray        3: 3 elems, type `float64`, 24 bytes\n"
          ]
        }
      ],
      "source": [
        "%whos"
      ]
    },
    {
      "cell_type": "code",
      "execution_count": 157,
      "metadata": {
        "colab": {
          "base_uri": "https://localhost:8080/"
        },
        "id": "tDEJyD4TiOJR",
        "outputId": "65c685a6-7e4e-42eb-829f-eccf157b13e4"
      },
      "outputs": [
        {
          "output_type": "execute_result",
          "data": {
            "text/plain": [
              "1440"
            ]
          },
          "metadata": {},
          "execution_count": 157
        }
      ],
      "source": [
        "60 * 24"
      ]
    },
    {
      "cell_type": "code",
      "execution_count": 158,
      "metadata": {
        "id": "I-kwmT_NiOJR"
      },
      "outputs": [],
      "source": [
        "study_minutes[0] = 150"
      ]
    },
    {
      "cell_type": "code",
      "execution_count": 159,
      "metadata": {
        "id": "SRMC07cMiOJS"
      },
      "outputs": [],
      "source": [
        "first_day_minutes = study_minutes[0]"
      ]
    },
    {
      "cell_type": "code",
      "execution_count": 160,
      "metadata": {
        "colab": {
          "base_uri": "https://localhost:8080/"
        },
        "id": "5BbN0TB7iOJS",
        "outputId": "b8559e43-118e-4f67-f545-3f6c6aa3cbdd"
      },
      "outputs": [
        {
          "output_type": "execute_result",
          "data": {
            "text/plain": [
              "150"
            ]
          },
          "metadata": {},
          "execution_count": 160
        }
      ],
      "source": [
        "first_day_minutes"
      ]
    },
    {
      "cell_type": "code",
      "execution_count": 161,
      "metadata": {
        "colab": {
          "base_uri": "https://localhost:8080/"
        },
        "id": "Bzdk0JJHiOJT",
        "outputId": "296fe5f0-023c-49a2-fd35-6fa201c4988e"
      },
      "outputs": [
        {
          "output_type": "execute_result",
          "data": {
            "text/plain": [
              "numpy.uint16"
            ]
          },
          "metadata": {},
          "execution_count": 161
        }
      ],
      "source": [
        "type(first_day_minutes)"
      ]
    },
    {
      "cell_type": "code",
      "execution_count": 162,
      "metadata": {
        "id": "goBD8Wc5iOJT"
      },
      "outputs": [],
      "source": [
        "# TODO: Add 60 minutes to the second day in the study_minutes array\n",
        "study_minutes[1] = 60"
      ]
    },
    {
      "cell_type": "code",
      "execution_count": 163,
      "metadata": {
        "id": "TdKvzJDriOJU"
      },
      "outputs": [],
      "source": [
        "study_minutes[2:6] = [80, 60, 30, 90]"
      ]
    },
    {
      "cell_type": "markdown",
      "metadata": {
        "id": "awlBPmB3iOJU"
      },
      "source": [
        "## Creation \n",
        "* You can create a random but bound grouping of values using the `np.random` package.  \n",
        "  * `RandomState` let's you seed your randomness in a way that is repeatable.\n",
        "* You can append a row in a couple of ways\n",
        "   * You can use the `np.append` method.  Make sure the new row is the same shape.\n",
        "   * You can create/reassign a new array by including the existing array as part of the iterable in creation.\n",
        "\n",
        "\n",
        "## Indexing\n",
        "* You can use an indexing shortcut by separating dimensions with a comma.  \n",
        "* You can index using a `list` or `np.array`.  Values will be pulled out at that specific index.  This is known as fancy indexing.\n",
        "  * Resulting array shape matches the index array layout.  Be careful to distinguish between the tuple shortcut and fancy indexing."
      ]
    },
    {
      "cell_type": "code",
      "execution_count": 164,
      "metadata": {
        "id": "f4PvLUBgiOJV"
      },
      "outputs": [],
      "source": [
        "study_minutes = np.array([\n",
        "    study_minutes,\n",
        "    np.zeros(100, np.uint16)\n",
        "])"
      ]
    },
    {
      "cell_type": "code",
      "execution_count": 165,
      "metadata": {
        "colab": {
          "base_uri": "https://localhost:8080/"
        },
        "id": "Rc_nLSBOiOJW",
        "outputId": "ef58f631-72ce-4370-cff2-bcf56d463dc9"
      },
      "outputs": [
        {
          "output_type": "execute_result",
          "data": {
            "text/plain": [
              "(2, 100)"
            ]
          },
          "metadata": {},
          "execution_count": 165
        }
      ],
      "source": [
        "study_minutes.shape"
      ]
    },
    {
      "cell_type": "code",
      "execution_count": 166,
      "metadata": {
        "id": "ALTSPpsuiOJW"
      },
      "outputs": [],
      "source": [
        "# Set round 2 day 1 to 60\n",
        "study_minutes[1][0] = 60"
      ]
    },
    {
      "cell_type": "code",
      "execution_count": 167,
      "metadata": {
        "colab": {
          "base_uri": "https://localhost:8080/"
        },
        "id": "rTyvLI_uiOJX",
        "outputId": "13361a63-4cf7-40d2-f458-8589fc977e1c"
      },
      "outputs": [
        {
          "output_type": "execute_result",
          "data": {
            "text/plain": [
              "60"
            ]
          },
          "metadata": {},
          "execution_count": 167
        }
      ],
      "source": [
        "study_minutes[1, 0]"
      ]
    },
    {
      "cell_type": "code",
      "execution_count": 168,
      "metadata": {
        "colab": {
          "base_uri": "https://localhost:8080/"
        },
        "id": "s2L6KVyXiOJX",
        "outputId": "84cfd1a7-e0fb-478e-ade6-1496694e728a"
      },
      "outputs": [
        {
          "output_type": "execute_result",
          "data": {
            "text/plain": [
              "(1, 0)"
            ]
          },
          "metadata": {},
          "execution_count": 168
        }
      ],
      "source": [
        "1, 0"
      ]
    },
    {
      "cell_type": "code",
      "execution_count": 169,
      "metadata": {
        "colab": {
          "base_uri": "https://localhost:8080/"
        },
        "id": "bUGIb7EWiOJY",
        "outputId": "8dcf1039-a7b0-46d3-b4b4-cc20a11b76d7"
      },
      "outputs": [
        {
          "output_type": "execute_result",
          "data": {
            "text/plain": [
              "array([132, 122, 128,  44, 136, 129, 101,  95,  50, 132, 151,  64, 104,\n",
              "       175, 117, 146, 139, 129, 133, 176,  98, 160, 179,  99,  82, 142,\n",
              "        31, 106, 117,  56,  98,  67, 121, 159,  81, 170,  31,  50,  49,\n",
              "        87, 179,  51, 116, 177, 118,  78, 171, 117,  88, 123, 102,  44,\n",
              "        79,  31, 108,  80,  59, 137,  84,  93, 155, 160,  67,  80, 166,\n",
              "       164,  70,  50, 102, 113,  47, 131, 161, 118,  82,  89,  81,  43,\n",
              "        81,  38, 119,  52,  82,  31, 159,  57, 113,  71, 121, 140,  91,\n",
              "        70,  37, 106,  64, 127, 110,  58,  93,  79], dtype=uint16)"
            ]
          },
          "metadata": {},
          "execution_count": 169
        }
      ],
      "source": [
        "rand = np.random.RandomState(42)\n",
        "fake_log = rand.randint(30, 180, size=100, dtype=np.uint16)\n",
        "fake_log"
      ]
    },
    {
      "cell_type": "code",
      "execution_count": 170,
      "metadata": {
        "colab": {
          "base_uri": "https://localhost:8080/"
        },
        "id": "P4JkO4ECiOJY",
        "outputId": "9f544bff-fbba-4f49-edb8-a907b3b54774"
      },
      "outputs": [
        {
          "output_type": "execute_result",
          "data": {
            "text/plain": [
              "[44, 50]"
            ]
          },
          "metadata": {},
          "execution_count": 170
        }
      ],
      "source": [
        "[fake_log[3], fake_log[8]]"
      ]
    },
    {
      "cell_type": "code",
      "execution_count": 171,
      "metadata": {
        "colab": {
          "base_uri": "https://localhost:8080/"
        },
        "id": "_lbXTcWLiOJZ",
        "outputId": "08b3cac2-1ebe-40a4-c732-8d1cd7e1083c"
      },
      "outputs": [
        {
          "output_type": "execute_result",
          "data": {
            "text/plain": [
              "array([44, 50], dtype=uint16)"
            ]
          },
          "metadata": {},
          "execution_count": 171
        }
      ],
      "source": [
        "fake_log[[3, 8]]"
      ]
    },
    {
      "cell_type": "code",
      "execution_count": 172,
      "metadata": {
        "colab": {
          "base_uri": "https://localhost:8080/"
        },
        "id": "h9JDIBWkiOJZ",
        "outputId": "47b96743-0f75-4043-cedc-53e52964ef62"
      },
      "outputs": [
        {
          "output_type": "execute_result",
          "data": {
            "text/plain": [
              "array([[ 44,  50],\n",
              "       [132, 122]], dtype=uint16)"
            ]
          },
          "metadata": {},
          "execution_count": 172
        }
      ],
      "source": [
        "index = np.array([\n",
        "    [3, 8],\n",
        "    [0, 1]\n",
        "])\n",
        "fake_log[index]"
      ]
    },
    {
      "cell_type": "code",
      "execution_count": 173,
      "metadata": {
        "id": "2o79y3IqiOJa"
      },
      "outputs": [],
      "source": [
        "study_minutes = np.append(study_minutes, [fake_log], axis=0)"
      ]
    },
    {
      "cell_type": "code",
      "execution_count": 174,
      "metadata": {
        "id": "bEqwoBqxiOJa"
      },
      "outputs": [],
      "source": [
        "study_minutes[1, 1] = 360"
      ]
    },
    {
      "cell_type": "markdown",
      "metadata": {
        "id": "123vaLTuiOJb"
      },
      "source": [
        "## Boolean Array Indexing\n",
        "* You can create a boolean array by using comparison operators on an array.\n",
        "  * You can use boolean arrays for fancy indexing.\n",
        "  * Boolean arrays can be compared by using bitwise operators (`&`, `|`)\n",
        "      * Do not use the `and` keyword.\n",
        "      * Remember to mind the order of operations when combining\n",
        "* Even though boolean indexing returns a new array, you can update an existing array using a boolean index."
      ]
    },
    {
      "cell_type": "code",
      "execution_count": 175,
      "metadata": {
        "colab": {
          "base_uri": "https://localhost:8080/"
        },
        "id": "f0jVZmcXiOJb",
        "outputId": "3fbc4a37-e669-4d1e-f7fe-422b6d531e65"
      },
      "outputs": [
        {
          "output_type": "execute_result",
          "data": {
            "text/plain": [
              "array([44, 50, 31, 56, 31, 50, 49, 51, 44, 31, 59, 50, 47, 43, 38, 52, 31,\n",
              "       57, 37, 58], dtype=uint16)"
            ]
          },
          "metadata": {},
          "execution_count": 175
        }
      ],
      "source": [
        "fake_log[fake_log < 60]"
      ]
    },
    {
      "cell_type": "code",
      "execution_count": 176,
      "metadata": {
        "colab": {
          "base_uri": "https://localhost:8080/"
        },
        "id": "Vt8i2y_wiOJc",
        "outputId": "8364e340-829e-4fc6-aab8-d21e1618f104"
      },
      "outputs": [
        {
          "output_type": "execute_result",
          "data": {
            "text/plain": [
              "array([44, 50, 31, 56, 31, 50, 49, 51, 44, 31, 59, 50, 47, 43, 38, 52, 31,\n",
              "       57, 37, 58], dtype=uint16)"
            ]
          },
          "metadata": {},
          "execution_count": 176
        }
      ],
      "source": [
        "results = []\n",
        "for value in fake_log:\n",
        "    if value < 60:\n",
        "        results.append(value)\n",
        "np.array(results)"
      ]
    },
    {
      "cell_type": "code",
      "execution_count": 177,
      "metadata": {
        "colab": {
          "base_uri": "https://localhost:8080/"
        },
        "id": "bhLrzlNMiOJd",
        "outputId": "0d2cf1f9-4d5a-43af-d790-759281b668d6"
      },
      "outputs": [
        {
          "output_type": "execute_result",
          "data": {
            "text/plain": [
              "array([30,  0,  0,  0,  0,  0,  0,  0,  0,  0,  0,  0,  0,  0,  0,  0,  0,\n",
              "        0,  0,  0,  0,  0,  0,  0,  0,  0,  0,  0,  0,  0,  0,  0,  0,  0,\n",
              "        0,  0,  0,  0,  0,  0,  0,  0,  0,  0,  0,  0,  0,  0,  0,  0,  0,\n",
              "        0,  0,  0,  0,  0,  0,  0,  0,  0,  0,  0,  0,  0,  0,  0,  0,  0,\n",
              "        0,  0,  0,  0,  0,  0,  0,  0,  0,  0,  0,  0,  0,  0,  0,  0,  0,\n",
              "        0,  0,  0,  0,  0,  0,  0,  0,  0,  0,  0,  0,  0,  0,  0,  0,  0,\n",
              "        0,  0,  0,  0,  0,  0,  0,  0,  0,  0,  0,  0,  0,  0,  0,  0,  0,\n",
              "        0,  0,  0,  0,  0,  0,  0,  0,  0,  0,  0,  0,  0,  0,  0,  0,  0,\n",
              "        0,  0,  0,  0,  0,  0,  0,  0,  0,  0,  0,  0,  0,  0,  0,  0,  0,\n",
              "        0,  0,  0,  0,  0,  0,  0,  0,  0,  0,  0,  0,  0,  0,  0,  0,  0,\n",
              "        0,  0,  0,  0,  0,  0,  0,  0,  0,  0,  0,  0,  0,  0,  0,  0,  0,\n",
              "        0,  0,  0,  0,  0,  0, 44, 50, 31, 56, 31, 50, 49, 51, 44, 31, 59,\n",
              "       50, 47, 43, 38, 52, 31, 57, 37, 58], dtype=uint16)"
            ]
          },
          "metadata": {},
          "execution_count": 177
        }
      ],
      "source": [
        "study_minutes[study_minutes < 60]"
      ]
    },
    {
      "cell_type": "code",
      "execution_count": 178,
      "metadata": {
        "colab": {
          "base_uri": "https://localhost:8080/"
        },
        "id": "lpslJzRRiOJd",
        "outputId": "f2166421-c365-4da4-9c53-912796ca6a37"
      },
      "outputs": [
        {
          "output_type": "execute_result",
          "data": {
            "text/plain": [
              "array([False, False,  True])"
            ]
          },
          "metadata": {},
          "execution_count": 178
        }
      ],
      "source": [
        "np.array([False, True, True]) & np.array([True, False, True])"
      ]
    },
    {
      "cell_type": "code",
      "execution_count": 179,
      "metadata": {
        "colab": {
          "base_uri": "https://localhost:8080/"
        },
        "id": "MdXdJwfWiOJe",
        "outputId": "cd6b9a0e-cdba-4919-cdd5-edace7feaf60"
      },
      "outputs": [
        {
          "output_type": "execute_result",
          "data": {
            "text/plain": [
              "array([30, 44, 50, 31, 56, 31, 50, 49, 51, 44, 31, 59, 50, 47, 43, 38, 52,\n",
              "       31, 57, 37, 58], dtype=uint16)"
            ]
          },
          "metadata": {},
          "execution_count": 179
        }
      ],
      "source": [
        "study_minutes[(study_minutes < 60) & (study_minutes > 0)]"
      ]
    },
    {
      "cell_type": "code",
      "execution_count": 180,
      "metadata": {
        "id": "awdNK7I_iOJe"
      },
      "outputs": [],
      "source": [
        "study_minutes[study_minutes < 60] = 0"
      ]
    },
    {
      "cell_type": "code",
      "execution_count": 181,
      "metadata": {
        "colab": {
          "base_uri": "https://localhost:8080/"
        },
        "id": "4TpD1UGriOJf",
        "outputId": "b47ca68d-fb92-4777-950e-14069f52dfb5"
      },
      "outputs": [
        {
          "output_type": "execute_result",
          "data": {
            "text/plain": [
              "array([132, 122, 128,   0, 136, 129, 101,  95,   0, 132, 151,  64, 104,\n",
              "       175, 117, 146, 139, 129, 133, 176,  98, 160, 179,  99,  82, 142,\n",
              "         0, 106, 117,   0,  98,  67, 121, 159,  81, 170,   0,   0,   0,\n",
              "        87, 179,   0, 116, 177, 118,  78, 171, 117,  88, 123, 102,   0,\n",
              "        79,   0, 108,  80,   0, 137,  84,  93, 155, 160,  67,  80, 166,\n",
              "       164,  70,   0, 102, 113,   0, 131, 161, 118,  82,  89,  81,   0,\n",
              "        81,   0, 119,   0,  82,   0, 159,   0, 113,  71, 121, 140,  91,\n",
              "        70,   0, 106,  64, 127, 110,   0,  93,  79], dtype=uint16)"
            ]
          },
          "metadata": {},
          "execution_count": 181
        }
      ],
      "source": [
        "study_minutes[2]"
      ]
    },
    {
      "cell_type": "markdown",
      "metadata": {
        "id": "sRtoC6ZciOJl"
      },
      "source": [
        "## Universal Functions - Reduce / Accumulate\n",
        "* Universal Functions expose a function to [`reduce`](https://docs.scipy.org/doc/numpy/reference/generated/numpy.ufunc.reduce.html) an array to a single value.\n",
        "* There is also a function named [`accumulate`](https://docs.scipy.org/doc/numpy/reference/generated/numpy.ufunc.accumulate.html) which will show the reduction and it's accumulation as it happens."
      ]
    },
    {
      "cell_type": "code",
      "execution_count": 182,
      "metadata": {
        "colab": {
          "base_uri": "https://localhost:8080/"
        },
        "id": "JQ4GEukUiOJm",
        "outputId": "b7fc6a2f-6ac1-41ef-9b04-75a485a0bd9a"
      },
      "outputs": [
        {
          "output_type": "execute_result",
          "data": {
            "text/plain": [
              "440"
            ]
          },
          "metadata": {},
          "execution_count": 182
        }
      ],
      "source": [
        "np.add.reduce(study_minutes[0])"
      ]
    },
    {
      "cell_type": "code",
      "execution_count": 183,
      "metadata": {
        "colab": {
          "base_uri": "https://localhost:8080/"
        },
        "id": "agS19ujoiOJm",
        "outputId": "7a578280-e6dd-4dc3-e484-384f28f178a2"
      },
      "outputs": [
        {
          "output_type": "execute_result",
          "data": {
            "text/plain": [
              "array([150, 210, 290, 350, 350, 440, 440, 440, 440, 440, 440, 440, 440,\n",
              "       440, 440, 440, 440, 440, 440, 440, 440, 440, 440, 440, 440, 440,\n",
              "       440, 440, 440, 440, 440, 440, 440, 440, 440, 440, 440, 440, 440,\n",
              "       440, 440, 440, 440, 440, 440, 440, 440, 440, 440, 440, 440, 440,\n",
              "       440, 440, 440, 440, 440, 440, 440, 440, 440, 440, 440, 440, 440,\n",
              "       440, 440, 440, 440, 440, 440, 440, 440, 440, 440, 440, 440, 440,\n",
              "       440, 440, 440, 440, 440, 440, 440, 440, 440, 440, 440, 440, 440,\n",
              "       440, 440, 440, 440, 440, 440, 440, 440, 440], dtype=uint64)"
            ]
          },
          "metadata": {},
          "execution_count": 183
        }
      ],
      "source": [
        "np.add.accumulate(study_minutes[0])"
      ]
    },
    {
      "cell_type": "code",
      "execution_count": 184,
      "metadata": {
        "colab": {
          "base_uri": "https://localhost:8080/"
        },
        "id": "KlZLuHmuiOJn",
        "outputId": "03120922-39e6-4aee-cd4b-c5d1f9191f7b"
      },
      "outputs": [
        {
          "output_type": "execute_result",
          "data": {
            "text/plain": [
              "440"
            ]
          },
          "metadata": {},
          "execution_count": 184
        }
      ],
      "source": [
        "np.sum(study_minutes[0])"
      ]
    },
    {
      "cell_type": "code",
      "execution_count": 185,
      "metadata": {
        "colab": {
          "base_uri": "https://localhost:8080/"
        },
        "id": "boIrzW-liOJn",
        "outputId": "b4f728b4-cefd-42e9-d35e-9a57a47c4c82"
      },
      "outputs": [
        {
          "output_type": "execute_result",
          "data": {
            "text/plain": [
              "array([ 440,  420, 9290], dtype=uint64)"
            ]
          },
          "metadata": {},
          "execution_count": 185
        }
      ],
      "source": [
        "np.sum(study_minutes, axis=1)"
      ]
    },
    {
      "cell_type": "code",
      "execution_count": 187,
      "metadata": {
        "colab": {
          "base_uri": "https://localhost:8080/",
          "height": 284
        },
        "id": "heaScDWSiOJo",
        "outputId": "e5a786d5-c508-4235-cbf3-1333fb78fc80"
      },
      "outputs": [
        {
          "output_type": "execute_result",
          "data": {
            "text/plain": [
              "[]"
            ]
          },
          "metadata": {},
          "execution_count": 187
        },
        {
          "output_type": "display_data",
          "data": {
            "text/plain": [
              "<Figure size 432x288 with 1 Axes>"
            ],
            "image/png": "[encoded data removed]"
          },
          "metadata": {
            "needs_background": "light"
          }
        }
      ],
      "source": [
        "# Pass in a one dimensional array of all the minutes that are \n",
        "#  greater than zero\n",
        "import matplotlib.pyplot as plt\n",
        "plt.hist(study_minutes[study_minutes > 0])\n",
        "plt.plot()"
      ]
    },
    {
      "cell_type": "markdown",
      "metadata": {
        "id": "4efdDskhiOJo"
      },
      "source": [
        "## Slicing\n",
        "* Works a lot like normal list slicing.\n",
        "* You can use commas to separate each dimension slice.\n",
        "* Always returns a data view **not a copy**\n",
        "* You can access the base object using the `ndarray.base` property"
      ]
    },
    {
      "cell_type": "code",
      "execution_count": 188,
      "metadata": {
        "id": "1fUwwlDbiOJp"
      },
      "outputs": [],
      "source": [
        "fruit = [\"apple\", \"banana\", \"cherry\", \"durian\"]"
      ]
    },
    {
      "cell_type": "code",
      "execution_count": 189,
      "metadata": {
        "colab": {
          "base_uri": "https://localhost:8080/"
        },
        "id": "znx_gwHRiOJp",
        "outputId": "3236cf17-2cb5-4946-cdf8-30e28a892219"
      },
      "outputs": [
        {
          "output_type": "execute_result",
          "data": {
            "text/plain": [
              "['banana', 'cherry']"
            ]
          },
          "metadata": {},
          "execution_count": 189
        }
      ],
      "source": [
        "fruit[1:3]"
      ]
    },
    {
      "cell_type": "code",
      "execution_count": 190,
      "metadata": {
        "colab": {
          "base_uri": "https://localhost:8080/"
        },
        "id": "w5LOdtxPiOJq",
        "outputId": "919269ad-5235-4b80-b5ae-a5cb7c0eaa65"
      },
      "outputs": [
        {
          "output_type": "execute_result",
          "data": {
            "text/plain": [
              "['apple', 'banana', 'cherry']"
            ]
          },
          "metadata": {},
          "execution_count": 190
        }
      ],
      "source": [
        "fruit[:3]"
      ]
    },
    {
      "cell_type": "code",
      "execution_count": 191,
      "metadata": {
        "colab": {
          "base_uri": "https://localhost:8080/"
        },
        "id": "oX6iDpZqiOJr",
        "outputId": "04383996-1b64-46e1-a52c-11d12947f2b3"
      },
      "outputs": [
        {
          "output_type": "execute_result",
          "data": {
            "text/plain": [
              "['durian']"
            ]
          },
          "metadata": {},
          "execution_count": 191
        }
      ],
      "source": [
        "fruit[3:]"
      ]
    },
    {
      "cell_type": "code",
      "execution_count": 192,
      "metadata": {
        "colab": {
          "base_uri": "https://localhost:8080/"
        },
        "id": "AxnzjGoIiOJr",
        "outputId": "79353a9a-7e1d-489f-bb43-56ca0ab8320a"
      },
      "outputs": [
        {
          "output_type": "execute_result",
          "data": {
            "text/plain": [
              "['apple', 'banana', 'cherry', 'durian']"
            ]
          },
          "metadata": {},
          "execution_count": 192
        }
      ],
      "source": [
        "fruit[:]"
      ]
    },
    {
      "cell_type": "code",
      "execution_count": 193,
      "metadata": {
        "id": "3aWb6Ng-iOJs"
      },
      "outputs": [],
      "source": [
        "copied = fruit[:]"
      ]
    },
    {
      "cell_type": "code",
      "execution_count": 194,
      "metadata": {
        "colab": {
          "base_uri": "https://localhost:8080/"
        },
        "id": "eYn5MPu_iOJs",
        "outputId": "0757ac3b-ce26-49dd-c660-a3d80f2b6733"
      },
      "outputs": [
        {
          "output_type": "execute_result",
          "data": {
            "text/plain": [
              "(['apple', 'banana', 'cherry', 'durian'],\n",
              " ['apple', 'banana', 'cherry', 'cheese'])"
            ]
          },
          "metadata": {},
          "execution_count": 194
        }
      ],
      "source": [
        "copied[3] = 'cheese'\n",
        "# Slicing a list returns a copy\n",
        "fruit, copied"
      ]
    },
    {
      "cell_type": "code",
      "execution_count": 195,
      "metadata": {
        "colab": {
          "base_uri": "https://localhost:8080/"
        },
        "id": "6nqcDlmbiOJs",
        "outputId": "95eb4726-30fa-44eb-d0bf-d80e5dfd742e"
      },
      "outputs": [
        {
          "output_type": "execute_result",
          "data": {
            "text/plain": [
              "['apple', 'cherry']"
            ]
          },
          "metadata": {},
          "execution_count": 195
        }
      ],
      "source": [
        "fruit[::2]"
      ]
    },
    {
      "cell_type": "code",
      "execution_count": 196,
      "metadata": {
        "colab": {
          "base_uri": "https://localhost:8080/"
        },
        "id": "Zyi9tEzYiOJt",
        "outputId": "3a4b0928-58aa-4f11-97f9-5beac897fc53"
      },
      "outputs": [
        {
          "output_type": "execute_result",
          "data": {
            "text/plain": [
              "['durian', 'cherry', 'banana', 'apple']"
            ]
          },
          "metadata": {},
          "execution_count": 196
        }
      ],
      "source": [
        "fruit[::-1]"
      ]
    },
    {
      "cell_type": "code",
      "execution_count": 197,
      "metadata": {
        "colab": {
          "base_uri": "https://localhost:8080/"
        },
        "id": "Ql1w2yKJiOJt",
        "outputId": "4f2fb1bf-4d24-4939-fb94-42f2fa08a004"
      },
      "outputs": [
        {
          "output_type": "execute_result",
          "data": {
            "text/plain": [
              "array([ 0,  1,  2,  3,  4,  5,  6,  7,  8,  9, 10, 11, 12, 13, 14, 15, 16,\n",
              "       17, 18, 19])"
            ]
          },
          "metadata": {},
          "execution_count": 197
        }
      ],
      "source": [
        "np.arange(20)"
      ]
    },
    {
      "cell_type": "code",
      "execution_count": 198,
      "metadata": {
        "colab": {
          "base_uri": "https://localhost:8080/"
        },
        "id": "L-ZYtyDgiOJu",
        "outputId": "e66613c6-12f2-475a-b1d6-df41c35530ba"
      },
      "outputs": [
        {
          "output_type": "execute_result",
          "data": {
            "text/plain": [
              "array([[ 0,  1,  2,  3,  4,  5],\n",
              "       [ 6,  7,  8,  9, 10, 11],\n",
              "       [12, 13, 14, 15, 16, 17],\n",
              "       [18, 19, 20, 21, 22, 23],\n",
              "       [24, 25, 26, 27, 28, 29],\n",
              "       [30, 31, 32, 33, 34, 35],\n",
              "       [36, 37, 38, 39, 40, 41]])"
            ]
          },
          "metadata": {},
          "execution_count": 198
        }
      ],
      "source": [
        "practice = np.arange(42)\n",
        "practice.shape = (7, 6)\n",
        "practice"
      ]
    },
    {
      "cell_type": "code",
      "execution_count": 199,
      "metadata": {
        "colab": {
          "base_uri": "https://localhost:8080/"
        },
        "id": "l3POuRRFiOJu",
        "outputId": "620d676f-f59b-48f5-9074-dbab3bd7de4e"
      },
      "outputs": [
        {
          "output_type": "execute_result",
          "data": {
            "text/plain": [
              "array([[15, 17],\n",
              "       [21, 23],\n",
              "       [27, 29]])"
            ]
          },
          "metadata": {},
          "execution_count": 199
        }
      ],
      "source": [
        "practice[2:5, 3::2]"
      ]
    },
    {
      "cell_type": "code",
      "execution_count": 200,
      "metadata": {
        "colab": {
          "base_uri": "https://localhost:8080/"
        },
        "id": "61tegVOliOJv",
        "outputId": "207075cf-7cac-49ff-add9-29d813d5d940"
      },
      "outputs": [
        {
          "output_type": "execute_result",
          "data": {
            "text/plain": [
              "(array([[90210,     1,     2,     3,     4,     5],\n",
              "        [    6,     7,     8,     9,    10,    11],\n",
              "        [   12,    13,    14,    15,    16,    17],\n",
              "        [   18,    19,    20,    21,    22,    23],\n",
              "        [   24,    25,    26,    27,    28,    29],\n",
              "        [   30,    31,    32,    33,    34,    35],\n",
              "        [   36,    37,    38,    39,    40,    41]]),\n",
              " array([[90210,     1,     2,     3,     4,     5],\n",
              "        [    6,     7,     8,     9,    10,    11],\n",
              "        [   12,    13,    14,    15,    16,    17],\n",
              "        [   18,    19,    20,    21,    22,    23],\n",
              "        [   24,    25,    26,    27,    28,    29],\n",
              "        [   30,    31,    32,    33,    34,    35],\n",
              "        [   36,    37,    38,    39,    40,    41]]))"
            ]
          },
          "metadata": {},
          "execution_count": 200
        }
      ],
      "source": [
        "# Any slicing of ndarray returns a view and not a copy!\n",
        "not_copied = practice[:]\n",
        "not_copied[0, 0] = 90210\n",
        "practice, not_copied"
      ]
    },
    {
      "cell_type": "code",
      "execution_count": 201,
      "metadata": {
        "colab": {
          "base_uri": "https://localhost:8080/"
        },
        "id": "rBG_6DVtiOJv",
        "outputId": "961bdc6a-66c2-4dd8-c49c-99e9eea7ff05"
      },
      "outputs": [
        {
          "output_type": "execute_result",
          "data": {
            "text/plain": [
              "True"
            ]
          },
          "metadata": {},
          "execution_count": 201
        }
      ],
      "source": [
        "practice.base is None"
      ]
    },
    {
      "cell_type": "code",
      "execution_count": 202,
      "metadata": {
        "colab": {
          "base_uri": "https://localhost:8080/"
        },
        "id": "R777sUVGiOJw",
        "outputId": "989eff6b-6cf8-4dd0-fae8-2b751ef13b7b"
      },
      "outputs": [
        {
          "output_type": "execute_result",
          "data": {
            "text/plain": [
              "False"
            ]
          },
          "metadata": {},
          "execution_count": 202
        }
      ],
      "source": [
        "not_copied.base is None"
      ]
    },
    {
      "cell_type": "code",
      "execution_count": 203,
      "metadata": {
        "colab": {
          "base_uri": "https://localhost:8080/"
        },
        "id": "UfbS9DPiiOJw",
        "outputId": "36475368-060d-485f-d5fb-6c434c41001f"
      },
      "outputs": [
        {
          "output_type": "execute_result",
          "data": {
            "text/plain": [
              "True"
            ]
          },
          "metadata": {},
          "execution_count": 203
        }
      ],
      "source": [
        "not_copied.base is practice"
      ]
    },
    {
      "cell_type": "code",
      "execution_count": 204,
      "metadata": {
        "colab": {
          "base_uri": "https://localhost:8080/"
        },
        "id": "wL8eJSaoiOJw",
        "outputId": "0b0bb7f5-16c3-49ff-bf7f-e3be4fcffc20"
      },
      "outputs": [
        {
          "output_type": "execute_result",
          "data": {
            "text/plain": [
              "(True, False)"
            ]
          },
          "metadata": {},
          "execution_count": 204
        }
      ],
      "source": [
        "practice.flags['OWNDATA'], not_copied.flags['OWNDATA']"
      ]
    },
    {
      "cell_type": "markdown",
      "metadata": {
        "id": "L-F2xFSeiOJx"
      },
      "source": [
        "## Array Manipulation\n",
        "* The documentation on [Array Manipulation](https://docs.scipy.org/doc/numpy/reference/routines.array-manipulation.html) is a good one to keep bookmarked.\n",
        "* `ndarray.reshape` creates a view with a new shape\n",
        "  * You can use `-1` as a value to infer the missing dimension\n",
        "* `ndarray.ravel` returns a single dimensional view of the array.\n",
        "* `ndarray.flatten` can be used to make a single dimensional copy.\n",
        "* `np.lookfor` is great for searching docstrings from within a notebook."
      ]
    },
    {
      "cell_type": "code",
      "execution_count": 205,
      "metadata": {
        "colab": {
          "base_uri": "https://localhost:8080/"
        },
        "id": "7Kf6PdayiOJx",
        "outputId": "39bdce5e-3df0-4edc-c20e-08cdfae0238b"
      },
      "outputs": [
        {
          "output_type": "execute_result",
          "data": {
            "text/plain": [
              "(array([[90210,     1,     2,     3,     4,     5],\n",
              "        [    6,     7,     8,     9,    10,    11],\n",
              "        [   12,    13,    14,    15,    16,    17],\n",
              "        [   18,    19,    20,    21,    22,    23],\n",
              "        [   24,    25,    26,    27,    28,    29],\n",
              "        [   30,    31,    32,    33,    34,    35],\n",
              "        [   36,    37,    38,    39,    40,    41]]),\n",
              " array([[90210,     1,     2,     3,     4,     5,     6,     7,     8,\n",
              "             9,    10,    11,    12,    13],\n",
              "        [   14,    15,    16,    17,    18,    19,    20,    21,    22,\n",
              "            23,    24,    25,    26,    27],\n",
              "        [   28,    29,    30,    31,    32,    33,    34,    35,    36,\n",
              "            37,    38,    39,    40,    41]]),\n",
              " True)"
            ]
          },
          "metadata": {},
          "execution_count": 205
        }
      ],
      "source": [
        "practice_view = practice.reshape(3, 14)\n",
        "practice, practice_view, practice_view.base is practice"
      ]
    },
    {
      "cell_type": "code",
      "execution_count": 206,
      "metadata": {
        "colab": {
          "base_uri": "https://localhost:8080/"
        },
        "id": "F9qBRb1ZiOJy",
        "outputId": "6f180416-7ff7-4b78-c269-2088e9ec64da"
      },
      "outputs": [
        {
          "output_type": "execute_result",
          "data": {
            "text/plain": [
              "(21, 2)"
            ]
          },
          "metadata": {},
          "execution_count": 206
        }
      ],
      "source": [
        "practice.reshape(-1, 2).shape"
      ]
    },
    {
      "cell_type": "code",
      "execution_count": 207,
      "metadata": {
        "colab": {
          "base_uri": "https://localhost:8080/"
        },
        "id": "hGiU-2fsiOJy",
        "outputId": "5b55ddef-70bb-446e-ad50-4c00e16ab03b"
      },
      "outputs": [
        {
          "output_type": "execute_result",
          "data": {
            "text/plain": [
              "array([90210,     1,     2,     3,     4,     5,     6,     7,     8,\n",
              "           9,    10,    11,    12,    13,    14,    15,    16,    17,\n",
              "          18,    19,    20,    21,    22,    23,    24,    25,    26,\n",
              "          27,    28,    29,    30,    31,    32,    33,    34,    35,\n",
              "          36,    37,    38,    39,    40,    41])"
            ]
          },
          "metadata": {},
          "execution_count": 207
        }
      ],
      "source": [
        "practice.ravel()"
      ]
    },
    {
      "cell_type": "markdown",
      "metadata": {
        "id": "xXLmYXStiOJz"
      },
      "source": [
        "## Linear Algebra\n",
        "* There is a module for linear algebra, [linalg](https://docs.scipy.org/doc/numpy/reference/routines.linalg.html)\n",
        "* You can solve for a system of equations using the [solve function](https://docs.scipy.org/doc/numpy/reference/generated/numpy.linalg.solve.html#numpy.linalg.solve)\n",
        "    * You can create a square 2 dimensional matrix and a constant row vector and solve for each variable column\n",
        "    * You can double check the answer using the inner product or [dot](https://docs.scipy.org/doc/numpy/reference/generated/numpy.dot.html#numpy.dot).\n",
        "* You can use the `@` to produce the dot product of two arrays."
      ]
    },
    {
      "cell_type": "code",
      "execution_count": 208,
      "metadata": {
        "colab": {
          "base_uri": "https://localhost:8080/"
        },
        "id": "8ZbItKGliOJz",
        "outputId": "45f65ac4-e4b7-4ab3-8603-3256843a79b1"
      },
      "outputs": [
        {
          "output_type": "execute_result",
          "data": {
            "text/plain": [
              "array([1.5 , 8.  , 1.25, 2.  ])"
            ]
          },
          "metadata": {},
          "execution_count": 208
        }
      ],
      "source": [
        "orders = np.array([\n",
        "    [2, 0, 0, 0],\n",
        "    [4, 1, 2, 2],\n",
        "    [0, 1, 0, 1],\n",
        "    [6, 0, 1, 2]\n",
        "])\n",
        "totals = np.array([3, 20.50, 10, 14.25])\n",
        "prices = np.linalg.solve(orders, totals)\n",
        "prices"
      ]
    },
    {
      "cell_type": "code",
      "execution_count": 209,
      "metadata": {
        "colab": {
          "base_uri": "https://localhost:8080/"
        },
        "id": "JufjIceRiOJ0",
        "outputId": "a297f2ff-8d54-435c-f31d-591bd5cdb339"
      },
      "outputs": [
        {
          "output_type": "execute_result",
          "data": {
            "text/plain": [
              "array([ 3.  , 20.5 , 10.  , 14.25])"
            ]
          },
          "metadata": {},
          "execution_count": 209
        }
      ],
      "source": [
        "# A • B\n",
        "orders @ prices"
      ]
    },
    {
      "cell_type": "code",
      "execution_count": 210,
      "metadata": {
        "colab": {
          "base_uri": "https://localhost:8080/"
        },
        "id": "eXvZH3jliOJ1",
        "outputId": "2721f9f9-bb96-4ce2-adc4-3f2af5b2e586"
      },
      "outputs": [
        {
          "output_type": "execute_result",
          "data": {
            "text/plain": [
              "array([ 3.  , 20.5 , 10.  , 14.25])"
            ]
          },
          "metadata": {},
          "execution_count": 210
        }
      ],
      "source": [
        "\n",
        "orders.dot(prices)"
      ]
    },
    {
      "cell_type": "markdown",
      "metadata": {
        "id": "hjNRTcfkiOJ1"
      },
      "source": [
        "## Universal Functions\n",
        "* [ufuncs](https://docs.scipy.org/doc/numpy/reference/ufuncs.html) are commonly needed vectorized functions\n",
        "  * Vectorized functions allow you to operate element by element without using a loop\n",
        "* The standard math and comparison operations have all been overloaded so that they can make use of vectorization\n",
        "* Values can be [broadcasted](https://docs.scipy.org/doc/numpy/user/basics.broadcasting.html), or stretched to be applied to the ufuncs."
      ]
    },
    {
      "cell_type": "code",
      "execution_count": 211,
      "metadata": {
        "colab": {
          "base_uri": "https://localhost:8080/"
        },
        "id": "cyS9opR7iOJ2",
        "outputId": "4cea5b89-b315-4492-c5ea-e750ba0767d0"
      },
      "outputs": [
        {
          "output_type": "execute_result",
          "data": {
            "text/plain": [
              "(array([1, 2, 3, 4, 5]), array([ 6,  7,  8,  9, 10]))"
            ]
          },
          "metadata": {},
          "execution_count": 211
        }
      ],
      "source": [
        "a, b = np.split(np.arange(1, 11), 2)\n",
        "a, b"
      ]
    },
    {
      "cell_type": "code",
      "execution_count": 212,
      "metadata": {
        "colab": {
          "base_uri": "https://localhost:8080/"
        },
        "id": "q4HCRvwJiOJ2",
        "outputId": "88ff3cfc-c272-4a0d-d106-28ce90d251d3"
      },
      "outputs": [
        {
          "output_type": "execute_result",
          "data": {
            "text/plain": [
              "array([ 7,  9, 11, 13, 15])"
            ]
          },
          "metadata": {},
          "execution_count": 212
        }
      ],
      "source": [
        "a + b"
      ]
    },
    {
      "cell_type": "code",
      "execution_count": 213,
      "metadata": {
        "colab": {
          "base_uri": "https://localhost:8080/"
        },
        "id": "equHzR6BiOJ2",
        "outputId": "ec461f49-1de4-490d-88dc-0c87362836c1"
      },
      "outputs": [
        {
          "output_type": "execute_result",
          "data": {
            "text/plain": [
              "array([-5, -5, -5, -5, -5])"
            ]
          },
          "metadata": {},
          "execution_count": 213
        }
      ],
      "source": [
        "a - b"
      ]
    },
    {
      "cell_type": "code",
      "execution_count": 214,
      "metadata": {
        "colab": {
          "base_uri": "https://localhost:8080/"
        },
        "id": "sF-q2l6WiOJ3",
        "outputId": "36bef349-ce1c-442e-f5a4-4cbb0d7d4f95"
      },
      "outputs": [
        {
          "output_type": "execute_result",
          "data": {
            "text/plain": [
              "array([5, 5, 5, 5, 5])"
            ]
          },
          "metadata": {},
          "execution_count": 214
        }
      ],
      "source": [
        "b - a"
      ]
    },
    {
      "cell_type": "code",
      "execution_count": 215,
      "metadata": {
        "colab": {
          "base_uri": "https://localhost:8080/"
        },
        "id": "Af5TlwzniOJ3",
        "outputId": "3d7181fe-18e2-4ccc-ace3-403a000f66ab"
      },
      "outputs": [
        {
          "output_type": "execute_result",
          "data": {
            "text/plain": [
              "array([ 6, 14, 24, 36, 50])"
            ]
          },
          "metadata": {},
          "execution_count": 215
        }
      ],
      "source": [
        "a * b"
      ]
    },
    {
      "cell_type": "code",
      "execution_count": 216,
      "metadata": {
        "colab": {
          "base_uri": "https://localhost:8080/"
        },
        "id": "A3F1FaqpiOJ4",
        "outputId": "7fda8ce2-4875-46b3-aa12-fe91baf1454b"
      },
      "outputs": [
        {
          "output_type": "execute_result",
          "data": {
            "text/plain": [
              "array([3, 4, 5, 6, 7])"
            ]
          },
          "metadata": {},
          "execution_count": 216
        }
      ],
      "source": [
        "a + 2"
      ]
    },
    {
      "cell_type": "code",
      "execution_count": 217,
      "metadata": {
        "colab": {
          "base_uri": "https://localhost:8080/"
        },
        "id": "ysvYkQxNiOJ4",
        "outputId": "e3ce696c-2f67-4324-fecd-b66f657f8f87"
      },
      "outputs": [
        {
          "output_type": "execute_result",
          "data": {
            "text/plain": [
              "array([3, 4, 5, 6, 7])"
            ]
          },
          "metadata": {},
          "execution_count": 217
        }
      ],
      "source": [
        "a + np.repeat(2, 5)"
      ]
    },
    {
      "cell_type": "code",
      "execution_count": 218,
      "metadata": {
        "colab": {
          "base_uri": "https://localhost:8080/"
        },
        "id": "AI3z95Q_iOJ5",
        "outputId": "7f3a973e-20a7-4a07-ad90-4bd6588d984b"
      },
      "outputs": [
        {
          "output_type": "execute_result",
          "data": {
            "text/plain": [
              "(array([[0., 1., 2.],\n",
              "        [3., 4., 5.],\n",
              "        [6., 7., 8.]]), array([0., 1., 2.]))"
            ]
          },
          "metadata": {},
          "execution_count": 218
        }
      ],
      "source": [
        "x1 = np.arange(9.0).reshape((3, 3))\n",
        "x2 = np.arange(3.0)\n",
        "x1, x2"
      ]
    },
    {
      "cell_type": "code",
      "execution_count": 219,
      "metadata": {
        "colab": {
          "base_uri": "https://localhost:8080/"
        },
        "id": "IgiK-gCGiOJ5",
        "outputId": "f40edeb2-a68b-4fb1-def6-38db366833ef"
      },
      "outputs": [
        {
          "output_type": "execute_result",
          "data": {
            "text/plain": [
              "array([[ 0.,  2.,  4.],\n",
              "       [ 3.,  5.,  7.],\n",
              "       [ 6.,  8., 10.]])"
            ]
          },
          "metadata": {},
          "execution_count": 219
        }
      ],
      "source": [
        "np.add(x1, x2)"
      ]
    },
    {
      "cell_type": "code",
      "execution_count": 220,
      "metadata": {
        "colab": {
          "base_uri": "https://localhost:8080/"
        },
        "id": "Erb2VYPfiOJ6",
        "outputId": "4f78e181-7a54-44ff-cb8b-c307b10d0d14"
      },
      "outputs": [
        {
          "output_type": "execute_result",
          "data": {
            "text/plain": [
              "array([[ 2.,  3.,  4.],\n",
              "       [ 5.,  6.,  7.],\n",
              "       [ 8.,  9., 10.]])"
            ]
          },
          "metadata": {},
          "execution_count": 220
        }
      ],
      "source": [
        "np.add(x1, 2)"
      ]
    },
    {
      "cell_type": "code",
      "source": [
        ""
      ],
      "metadata": {
        "id": "nxO43lOEmK5o"
      },
      "execution_count": 220,
      "outputs": []
    }
  ],
  "metadata": {
    "kernelspec": {
      "display_name": "Python 3",
      "language": "python",
      "name": "python3"
    },
    "language_info": {
      "codemirror_mode": {
        "name": "ipython",
        "version": 3
      },
      "file_extension": ".py",
      "mimetype": "text/x-python",
      "name": "python",
      "nbconvert_exporter": "python",
      "pygments_lexer": "ipython3",
      "version": "3.6.4"
    },
    "colab": {
      "name": "numpy.ipynb",
      "provenance": [],
      "collapsed_sections": []
    }
  },
  "nbformat": 4,
  "nbformat_minor": 0
}